{
 "cells": [
  {
   "cell_type": "code",
   "execution_count": 12,
   "metadata": {},
   "outputs": [],
   "source": [
    "# !pip install virtualenv\n",
    "# !pip install Flask"
   ]
  },
  {
   "cell_type": "markdown",
   "metadata": {},
   "source": [
    "# ...to stop programme -> Kernal => Interrupt\n",
    "\n",
    "## # https://www.geeksforgeeks.org/python-introduction-to-web-development-using-flask/"
   ]
  },
  {
   "cell_type": "code",
   "execution_count": 1,
   "metadata": {},
   "outputs": [
    {
     "name": "stdout",
     "output_type": "stream",
     "text": [
      " * Serving Flask app \"__main__\" (lazy loading)\n",
      " * Environment: production\n",
      "   WARNING: This is a development server. Do not use it in a production deployment.\n",
      "   Use a production WSGI server instead.\n",
      " * Debug mode: off\n"
     ]
    },
    {
     "name": "stderr",
     "output_type": "stream",
     "text": [
      " * Running on http://127.0.0.1:5000/ (Press CTRL+C to quit)\n"
     ]
    }
   ],
   "source": [
    "from flask import Flask \n",
    "app = Flask(__name__) \n",
    "\n",
    "@app.route('/hello/<name>') \n",
    "def hello_name(name): \n",
    "    return ('Hello %s!' % name) \n",
    "\n",
    "if __name__ == '__main__': \n",
    "    app.run() "
   ]
  },
  {
   "cell_type": "markdown",
   "metadata": {},
   "source": [
    "# http://127.0.0.1:5000/hello/World"
   ]
  },
  {
   "cell_type": "code",
   "execution_count": 2,
   "metadata": {},
   "outputs": [
    {
     "name": "stdout",
     "output_type": "stream",
     "text": [
      " * Serving Flask app \"__main__\" (lazy loading)\n",
      " * Environment: production\n",
      "   WARNING: This is a development server. Do not use it in a production deployment.\n",
      "   Use a production WSGI server instead.\n",
      " * Debug mode: off\n"
     ]
    },
    {
     "name": "stderr",
     "output_type": "stream",
     "text": [
      " * Running on http://127.0.0.1:5000/ (Press CTRL+C to quit)\n",
      "127.0.0.1 - - [20/Oct/2020 11:01:12] \"\u001b[37mGET / HTTP/1.1\u001b[0m\" 200 -\n"
     ]
    }
   ],
   "source": [
    "# Importing flask module in the project is mandatory \n",
    "# An object of Flask class is our WSGI application. \n",
    "from flask import Flask \n",
    "\n",
    "# Flask constructor takes the name of \n",
    "# current module (__name__) as argument. \n",
    "app = Flask(__name__) \n",
    "\n",
    "# The route() function of the Flask class is a decorator, \n",
    "# which tells the application which URL should call \n",
    "# the associated function. \n",
    "@app.route('/') \n",
    "# ‘/’ URL is bound with hello_world() function. \n",
    "def hello_world(): \n",
    "    return 'Hello World'\n",
    "\n",
    "# main driver function \n",
    "if __name__ == '__main__': \n",
    "\n",
    "    # run() method of Flask class runs the application \n",
    "    # on the local development server. \n",
    "    app.run() "
   ]
  },
  {
   "cell_type": "markdown",
   "metadata": {},
   "source": [
    "# http://127.0.0.1:5000/"
   ]
  },
  {
   "cell_type": "code",
   "execution_count": 3,
   "metadata": {
    "scrolled": true
   },
   "outputs": [
    {
     "name": "stdout",
     "output_type": "stream",
     "text": [
      " * Serving Flask app \"__main__\" (lazy loading)\n",
      " * Environment: production\n",
      "   WARNING: This is a development server. Do not use it in a production deployment.\n",
      "   Use a production WSGI server instead.\n",
      " * Debug mode: off\n"
     ]
    },
    {
     "name": "stderr",
     "output_type": "stream",
     "text": [
      " * Running on http://127.0.0.1:5000/ (Press CTRL+C to quit)\n",
      "127.0.0.1 - - [20/Oct/2020 11:01:22] \"\u001b[33mGET /success/Hey%20Vicks HTTP/1.1\u001b[0m\" 404 -\n",
      "127.0.0.1 - - [20/Oct/2020 11:01:35] \"\u001b[37mGET /success/Hey%20Vicks HTTP/1.1\u001b[0m\" 200 -\n",
      "127.0.0.1 - - [20/Oct/2020 11:01:35] \"\u001b[37mGET /success/Hey%20Vicks HTTP/1.1\u001b[0m\" 200 -\n",
      "127.0.0.1 - - [20/Oct/2020 11:01:36] \"\u001b[37mGET /success/Hey%20Vicks HTTP/1.1\u001b[0m\" 200 -\n"
     ]
    }
   ],
   "source": [
    "from flask import Flask, redirect, url_for, request \n",
    "app = Flask(__name__) \n",
    "\n",
    "@app.route('/success/<name>') \n",
    "def success(name): \n",
    "    return 'welcome %s' % name \n",
    "\n",
    "@app.route('/login', methods = ['POST', 'GET']) \n",
    "def login(): \n",
    "    if request.method == 'POST': \n",
    "        user = request.form['nm'] \n",
    "        return redirect(url_for('success',name = user)) \n",
    "    else: \n",
    "        user = request.args.get('nm') \n",
    "        return redirect(url_for('success',name = user)) \n",
    "\n",
    "if __name__ == '__main__': \n",
    "    app.run() "
   ]
  },
  {
   "cell_type": "markdown",
   "metadata": {},
   "source": [
    "# http://127.0.0.1:5000/success/Hey%20Vicks"
   ]
  },
  {
   "cell_type": "code",
   "execution_count": 4,
   "metadata": {},
   "outputs": [
    {
     "name": "stdout",
     "output_type": "stream",
     "text": [
      " * Serving Flask app \"__main__\" (lazy loading)\n",
      " * Environment: production\n",
      "   WARNING: This is a development server. Do not use it in a production deployment.\n",
      "   Use a production WSGI server instead.\n",
      " * Debug mode: off\n"
     ]
    },
    {
     "name": "stderr",
     "output_type": "stream",
     "text": [
      " * Running on http://127.0.0.1:5000/ (Press CTRL+C to quit)\n",
      "127.0.0.1 - - [20/Oct/2020 11:02:08] \"\u001b[33mGET / HTTP/1.1\u001b[0m\" 404 -\n",
      "127.0.0.1 - - [20/Oct/2020 11:02:09] \"\u001b[37mGET / HTTP/1.1\u001b[0m\" 200 -\n",
      "127.0.0.1 - - [20/Oct/2020 11:02:09] \"\u001b[37mGET / HTTP/1.1\u001b[0m\" 200 -\n",
      "127.0.0.1 - - [20/Oct/2020 11:02:10] \"\u001b[37mGET / HTTP/1.1\u001b[0m\" 200 -\n",
      "127.0.0.1 - - [20/Oct/2020 11:02:39] \"\u001b[33mGET /guest/ABC HTTP/1.1\u001b[0m\" 404 -\n",
      "127.0.0.1 - - [20/Oct/2020 11:02:40] \"\u001b[33mGET /guest/ABC HTTP/1.1\u001b[0m\" 404 -\n",
      "127.0.0.1 - - [20/Oct/2020 11:02:40] \"\u001b[33mGET /guest/ABC HTTP/1.1\u001b[0m\" 404 -\n",
      "127.0.0.1 - - [20/Oct/2020 11:02:40] \"\u001b[33mGET /guest/ABC HTTP/1.1\u001b[0m\" 404 -\n",
      "127.0.0.1 - - [20/Oct/2020 11:02:41] \"\u001b[33mGET /guest/ABC HTTP/1.1\u001b[0m\" 404 -\n",
      "127.0.0.1 - - [20/Oct/2020 11:02:41] \"\u001b[33mGET /guest/ABC HTTP/1.1\u001b[0m\" 404 -\n",
      "127.0.0.1 - - [20/Oct/2020 11:02:41] \"\u001b[33mGET /guest/ABC HTTP/1.1\u001b[0m\" 404 -\n",
      "127.0.0.1 - - [20/Oct/2020 11:02:42] \"\u001b[33mGET /guest/ABC HTTP/1.1\u001b[0m\" 404 -\n",
      "127.0.0.1 - - [20/Oct/2020 11:02:42] \"\u001b[33mGET /guest/ABC HTTP/1.1\u001b[0m\" 404 -\n",
      "127.0.0.1 - - [20/Oct/2020 11:02:42] \"\u001b[33mGET /guest/ABC HTTP/1.1\u001b[0m\" 404 -\n",
      "127.0.0.1 - - [20/Oct/2020 11:02:43] \"\u001b[33mGET /guest/ABC HTTP/1.1\u001b[0m\" 404 -\n",
      "127.0.0.1 - - [20/Oct/2020 11:02:43] \"\u001b[33mGET /guest/ABC HTTP/1.1\u001b[0m\" 404 -\n",
      "127.0.0.1 - - [20/Oct/2020 11:02:43] \"\u001b[33mGET /guest/ABC HTTP/1.1\u001b[0m\" 404 -\n",
      "127.0.0.1 - - [20/Oct/2020 11:02:43] \"\u001b[33mGET /guest/ABC HTTP/1.1\u001b[0m\" 404 -\n",
      "127.0.0.1 - - [20/Oct/2020 11:02:56] \"\u001b[33mGET /guest/ABC HTTP/1.1\u001b[0m\" 404 -\n",
      "127.0.0.1 - - [20/Oct/2020 11:02:57] \"\u001b[33mGET /guest/ABC HTTP/1.1\u001b[0m\" 404 -\n",
      "127.0.0.1 - - [20/Oct/2020 11:02:58] \"\u001b[33mGET /guest/ABC HTTP/1.1\u001b[0m\" 404 -\n"
     ]
    }
   ],
   "source": [
    "# an object of WSGI application \n",
    "from flask import Flask\n",
    "app = Flask(__name__) # Flask constructor \n",
    "\n",
    "# A decorator used to tell the application \n",
    "# which URL is associated function \n",
    "@app.route('/')\n",
    "def hi(): \n",
    "    return 'HELLO'\n",
    "\n",
    "if __name__=='__main__': \n",
    "    app.run()"
   ]
  },
  {
   "cell_type": "markdown",
   "metadata": {},
   "source": [
    "# http://127.0.0.1:5000/"
   ]
  },
  {
   "cell_type": "code",
   "execution_count": 37,
   "metadata": {},
   "outputs": [],
   "source": [
    "# app.debug = True\n",
    "# app.run() \n",
    "# app.run(debug = True) "
   ]
  },
  {
   "cell_type": "code",
   "execution_count": 45,
   "metadata": {},
   "outputs": [],
   "source": [
    "# # decorator to route URL \n",
    "# @app.route('/hello') \n",
    "\n",
    "# # binding to the function of route \n",
    "# def hello_world(): \n",
    "#     return 'hello world'"
   ]
  },
  {
   "cell_type": "code",
   "execution_count": 7,
   "metadata": {
    "scrolled": true
   },
   "outputs": [
    {
     "name": "stdout",
     "output_type": "stream",
     "text": [
      " * Serving Flask app \"__main__\" (lazy loading)\n",
      " * Environment: production\n",
      "   WARNING: This is a development server. Do not use it in a production deployment.\n",
      "   Use a production WSGI server instead.\n",
      " * Debug mode: off\n"
     ]
    },
    {
     "name": "stderr",
     "output_type": "stream",
     "text": [
      " * Running on http://127.0.0.1:5000/ (Press CTRL+C to quit)\n"
     ]
    }
   ],
   "source": [
    "from flask import Flask \n",
    "app = Flask(__name__) \n",
    "\n",
    "@app.route('/blog/<postID>') \n",
    "def show_blog(postID): \n",
    "    return 'Blog Number %d' % postID \n",
    "\n",
    "@app.route('/rev/<revNo>') \n",
    "def revision(revNo): \n",
    "    return 'Revision Number %f' % revNo \n",
    "\n",
    "if __name__ == '__main__': \n",
    "    app.run() "
   ]
  },
  {
   "cell_type": "markdown",
   "metadata": {},
   "source": [
    "# say the URL is http://localhost:5000/blog/555"
   ]
  },
  {
   "cell_type": "code",
   "execution_count": 5,
   "metadata": {},
   "outputs": [
    {
     "name": "stdout",
     "output_type": "stream",
     "text": [
      " * Serving Flask app \"__main__\" (lazy loading)\n",
      " * Environment: production\n",
      "   WARNING: This is a development server. Do not use it in a production deployment.\n",
      "   Use a production WSGI server instead.\n",
      " * Debug mode: off\n"
     ]
    },
    {
     "name": "stderr",
     "output_type": "stream",
     "text": [
      " * Running on http://127.0.0.1:5000/ (Press CTRL+C to quit)\n",
      "127.0.0.1 - - [20/Oct/2020 11:03:15] \"\u001b[33mGET /blog/555 HTTP/1.1\u001b[0m\" 404 -\n",
      "127.0.0.1 - - [20/Oct/2020 11:03:17] \"\u001b[33mGET /blog/555 HTTP/1.1\u001b[0m\" 404 -\n",
      "127.0.0.1 - - [20/Oct/2020 11:03:17] \"\u001b[33mGET /blog/555 HTTP/1.1\u001b[0m\" 404 -\n",
      "127.0.0.1 - - [20/Oct/2020 11:03:17] \"\u001b[33mGET /blog/555 HTTP/1.1\u001b[0m\" 404 -\n",
      "127.0.0.1 - - [20/Oct/2020 11:03:18] \"\u001b[33mGET /blog/555 HTTP/1.1\u001b[0m\" 404 -\n"
     ]
    }
   ],
   "source": [
    "from flask import Flask, redirect, url_for \n",
    "app = Flask(__name__) \n",
    "\n",
    "@app.route('/admin') #decorator for route(argument) function \n",
    "def hello_admin(): #binding to hello_admin call \n",
    "    return 'Hello Admin'\n",
    "\n",
    "@app.route('/guest/<guest>') \n",
    "def hello_guest(guest): #binding to hello_guest call \n",
    "    return 'Hello %s as Guest' % guest \n",
    "\n",
    "@app.route('/user/<name>') \n",
    "def hello_user(name):\n",
    "    if name =='admin': #dynamic binding of URL to function \n",
    "        return redirect(url_for('hello_admin')) \n",
    "    else: \n",
    "        return redirect(url_for('hello_guest', guest = name)) \n",
    "\n",
    "if __name__ == '__main__': \n",
    "    app.run() "
   ]
  },
  {
   "cell_type": "markdown",
   "metadata": {},
   "source": [
    "# http://localhost:5000/guest/ABC"
   ]
  },
  {
   "cell_type": "code",
   "execution_count": 56,
   "metadata": {},
   "outputs": [
    {
     "name": "stdout",
     "output_type": "stream",
     "text": [
      " * Serving Flask app \"__main__\" (lazy loading)\n",
      " * Environment: production\n",
      "   WARNING: This is a development server. Do not use it in a production deployment.\n",
      "   Use a production WSGI server instead.\n",
      " * Debug mode: off\n"
     ]
    },
    {
     "name": "stderr",
     "output_type": "stream",
     "text": [
      " * Running on http://127.0.0.1:5000/ (Press CTRL+C to quit)\n",
      "127.0.0.1 - - [19/Oct/2020 21:11:59] \"\u001b[33mGET / HTTP/1.1\u001b[0m\" 404 -\n"
     ]
    }
   ],
   "source": [
    "from flask import Flask, render_template \n",
    "app = Flask(__name__) \n",
    "\n",
    "@app.route(\"/\") \n",
    "def index(): \n",
    "    return render_template(\"index.html\") \n",
    "\n",
    "if __name__ == '__main__': \n",
    "    app.run() "
   ]
  },
  {
   "cell_type": "code",
   "execution_count": null,
   "metadata": {},
   "outputs": [],
   "source": []
  }
 ],
 "metadata": {
  "kernelspec": {
   "display_name": "Python 3",
   "language": "python",
   "name": "python3"
  },
  "language_info": {
   "codemirror_mode": {
    "name": "ipython",
    "version": 3
   },
   "file_extension": ".py",
   "mimetype": "text/x-python",
   "name": "python",
   "nbconvert_exporter": "python",
   "pygments_lexer": "ipython3",
   "version": "3.8.3"
  }
 },
 "nbformat": 4,
 "nbformat_minor": 4
}
